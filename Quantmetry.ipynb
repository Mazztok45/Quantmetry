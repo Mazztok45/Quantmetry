{
 "cells": [
  {
   "cell_type": "code",
   "execution_count": null,
   "metadata": {
    "collapsed": true
   },
   "outputs": [],
   "source": [
    "import os\n",
    "# Path où se situent le fichier de données csv\n",
    "#os.chdir(path='')"
   ]
  },
  {
   "cell_type": "code",
   "execution_count": null,
   "metadata": {
    "collapsed": true
   },
   "outputs": [],
   "source": [
    "# Import des librairies numpy, pandas, matplotlib, seaborn, scipy, statsmodels et scikit-learn\n",
    "import numpy as np\n",
    "import pandas as pd\n",
    "\n",
    "import matplotlib.pyplot as plt\n",
    "import seaborn as sns\n",
    "\n",
    "import scipy.stats as ss\n",
    "import statsmodels.api as sm\n",
    "\n",
    "from sklearn.metrics import confusion_matrix, classification_report, roc_curve, auc, accuracy_score\n",
    "from sklearn.model_selection import train_test_split, GridSearchCV\n",
    "from sklearn.ensemble import RandomForestClassifier"
   ]
  },
  {
   "cell_type": "code",
   "execution_count": null,
   "metadata": {
    "collapsed": true
   },
   "outputs": [],
   "source": [
    "# Lecture des données avec pandas\n",
    "data = pd.read_csv('data_v1.0.csv', usecols=range(2,13))"
   ]
  },
  {
   "cell_type": "markdown",
   "metadata": {},
   "source": [
    "# Partie 1\n",
    "## Exercice 1"
   ]
  },
  {
   "cell_type": "code",
   "execution_count": null,
   "metadata": {
    "collapsed": true
   },
   "outputs": [],
   "source": [
    "# Décompte des valeurs manquantes pour chaque variable\n",
    "data.isnull().sum()"
   ]
  },
  {
   "cell_type": "code",
   "execution_count": null,
   "metadata": {
    "collapsed": true
   },
   "outputs": [],
   "source": [
    "# On constate que les données ont été récupéréés sur 5 années durant\n",
    "print(pd.to_datetime(data['date'], infer_datetime_format=True).min(),\n",
    "pd.to_datetime(data['date'], infer_datetime_format=True).max())\n"
   ]
  },
  {
   "cell_type": "code",
   "execution_count": null,
   "metadata": {
    "collapsed": true
   },
   "outputs": [],
   "source": [
    "# On décompose la colonne 'date' en trois variables 'year', 'month', 'day'\n",
    "data['year'] = pd.to_datetime(data['date'], infer_datetime_format=True).dt.year\n",
    "data['month'] = pd.to_datetime(data['date'], infer_datetime_format=True).dt.month\n",
    "data['day'] = pd.to_datetime(data['date'], infer_datetime_format=True).dt.day"
   ]
  },
  {
   "cell_type": "code",
   "execution_count": null,
   "metadata": {
    "collapsed": true
   },
   "outputs": [],
   "source": [
    "# On observe que les moyennes et médianes de ces variables sont sensiblement proches\n",
    "print(data['year'].mean(), data['year'].median())\n",
    "print(data['month'].mean(), data['month'].median())\n",
    "print(data['day'].mean(), data['day'].median())"
   ]
  },
  {
   "cell_type": "code",
   "execution_count": null,
   "metadata": {
    "collapsed": true
   },
   "outputs": [],
   "source": [
    "# Graphes d'histogramme des variables 'year', 'month' et 'day' sans leurs valeurs manquantes\n",
    "plt.figure(figsize=(15,8))\n",
    "plt.subplot(311)\n",
    "sns.distplot(data['year'].dropna(), bins =30)\n",
    "plt.subplot(312)\n",
    "sns.distplot(data['month'].dropna(), bins =30)\n",
    "plt.subplot(313)\n",
    "sns.distplot(data['day'].dropna(), bins =30)\n",
    "plt.show()"
   ]
  },
  {
   "cell_type": "code",
   "execution_count": null,
   "metadata": {
    "collapsed": true
   },
   "outputs": [],
   "source": [
    "# Remplacement des valeurs manquantes par le mode de chaque série\n",
    "data['year'] = data['year'].fillna(data['year'].mode()[0])\n",
    "data['month'] = data['month'].fillna(data['month'].mode()[0])\n",
    "data['day'] = data['day'].fillna(data['day'].mode()[0])"
   ]
  },
  {
   "cell_type": "code",
   "execution_count": null,
   "metadata": {
    "collapsed": true
   },
   "outputs": [],
   "source": [
    "# Graphes d'histogramme de la variable 'age'\n",
    "plt.figure(figsize=(15,8))\n",
    "sns.distplot(data.age.dropna(), bins =30)\n",
    "plt.show()"
   ]
  },
  {
   "cell_type": "code",
   "execution_count": null,
   "metadata": {
    "collapsed": true
   },
   "outputs": [],
   "source": [
    "# On observe que les moyenne, médiane et mode de la série sont sensiblement proches\n",
    "print(data.age.dropna().mean(), data.age.dropna().median(), data.age.dropna().mode())"
   ]
  },
  {
   "cell_type": "code",
   "execution_count": null,
   "metadata": {
    "collapsed": true
   },
   "outputs": [],
   "source": [
    "# Remplacement des valeurs manquantes par le mode de la série age\n",
    "data['age'] = data['age'].fillna(35)"
   ]
  },
  {
   "cell_type": "code",
   "execution_count": null,
   "metadata": {
    "collapsed": true
   },
   "outputs": [],
   "source": [
    "# Graphes d'histogramme des variables 'exp', 'salaire' et 'note' sans leurs valeurs manquantes\n",
    "plt.figure(figsize=(15,8))\n",
    "plt.subplot(311)\n",
    "sns.distplot(data.exp.dropna(), bins =30)\n",
    "plt.subplot(312)\n",
    "sns.distplot(data.salaire.dropna(), bins =30)\n",
    "plt.subplot(313)\n",
    "sns.distplot(data.note.dropna(), bins =30)\n",
    "plt.show()"
   ]
  },
  {
   "cell_type": "code",
   "execution_count": null,
   "metadata": {
    "collapsed": true
   },
   "outputs": [],
   "source": [
    "# Remplacement des valeurs manquantes par la moyenne de chaque série\n",
    "data['exp'] = data['exp'].fillna(data['exp'].mean())\n",
    "data['salaire'] = data['salaire'].fillna(data['salaire'].mean())\n",
    "data['note'] = data['note'].fillna(data['note'].mean())"
   ]
  },
  {
   "cell_type": "code",
   "execution_count": null,
   "metadata": {
    "collapsed": true,
    "scrolled": true
   },
   "outputs": [],
   "source": [
    "# Décompte des valeurs des variables catégorielles\n",
    "print(data.cheveux.value_counts(),\n",
    "data.sexe.value_counts(),\n",
    "data.diplome.value_counts(),\n",
    "data.specialite.value_counts(),\n",
    "data.dispo.value_counts(), sep ='\\n')"
   ]
  },
  {
   "cell_type": "markdown",
   "metadata": {},
   "source": [
    "## Exercice 2\n",
    "### Question a"
   ]
  },
  {
   "cell_type": "code",
   "execution_count": null,
   "metadata": {
    "collapsed": true
   },
   "outputs": [],
   "source": [
    "#Création d'un  tableau croisé\n",
    "crosstab = pd.crosstab(data.specialite, data.sexe, rownames=['specialite'], colnames=['sexe'])\n",
    "  \n",
    "#Test de cramer\n",
    "def cramers(crosstab):\n",
    "    chi2 = ss.chi2_contingency(crosstab)[0]\n",
    "    n = crosstab.sum().sum()\n",
    "    return np.sqrt(chi2 / (n*(min(crosstab.shape)-1)))\n",
    "  \n",
    "result = cramers(crosstab)\n",
    "print(result)"
   ]
  },
  {
   "cell_type": "markdown",
   "metadata": {},
   "source": [
    "### Question b"
   ]
  },
  {
   "cell_type": "code",
   "execution_count": null,
   "metadata": {
    "collapsed": true
   },
   "outputs": [],
   "source": [
    "# On prépare les données en excluant les valeurs manquantes de la variable 'cheveux'\n",
    "data2 = data[data.index.isin(data['cheveux'].dropna().index)][['cheveux', 'salaire']]\n",
    "data3 = pd.concat([pd.get_dummies(data2.cheveux), data2.salaire], axis = 1)\n",
    "data3 = data3.dropna()"
   ]
  },
  {
   "cell_type": "code",
   "execution_count": null,
   "metadata": {
    "collapsed": true
   },
   "outputs": [],
   "source": [
    "# Régression\n",
    "model = sm.OLS(endog=data3.salaire, exog=data3[['blond','brun','chatain', 'roux']]).fit()\n",
    "model.summary()"
   ]
  },
  {
   "cell_type": "markdown",
   "metadata": {
    "collapsed": true
   },
   "source": [
    "### Question c"
   ]
  },
  {
   "cell_type": "code",
   "execution_count": null,
   "metadata": {
    "collapsed": true
   },
   "outputs": [],
   "source": [
    "# Préparation des données\n",
    "data4 = data[['exp', 'note']].dropna()"
   ]
  },
  {
   "cell_type": "code",
   "execution_count": null,
   "metadata": {
    "collapsed": true,
    "scrolled": true
   },
   "outputs": [],
   "source": [
    "# Régression\n",
    "model = sm.OLS(endog=data4.note, exog=data4.exp).fit()\n",
    "model.summary()"
   ]
  },
  {
   "cell_type": "markdown",
   "metadata": {},
   "source": [
    "# Partie 2\n",
    "## Question 1"
   ]
  },
  {
   "cell_type": "code",
   "execution_count": null,
   "metadata": {
    "collapsed": true
   },
   "outputs": [],
   "source": [
    "# On élimine les colonnes 'date' et 'cheveux'\n",
    "data = data.drop(['date', 'cheveux'], axis=1)\n",
    "data.head()"
   ]
  },
  {
   "cell_type": "code",
   "execution_count": null,
   "metadata": {
    "collapsed": true
   },
   "outputs": [],
   "source": [
    "# Préparation des features avec dummification des variables catégorielles\n",
    "X = pd.concat([data[['age', 'exp', 'salaire','note', 'year', 'month', 'day']],\n",
    "          pd.get_dummies(data['sexe']),\n",
    "           pd.get_dummies(data['diplome']),\n",
    "           pd.get_dummies(data['specialite']),\n",
    "           pd.get_dummies(data['dispo'])\n",
    "          ], axis=1)"
   ]
  },
  {
   "cell_type": "code",
   "execution_count": null,
   "metadata": {
    "collapsed": true
   },
   "outputs": [],
   "source": [
    "# Target\n",
    "y = data['embauche']"
   ]
  },
  {
   "cell_type": "code",
   "execution_count": null,
   "metadata": {
    "collapsed": true
   },
   "outputs": [],
   "source": [
    "# Splittage du set de données\n",
    "X_train, X_test, y_train, y_test = train_test_split(X, y, test_size=0.20, stratify=y, random_state=42)"
   ]
  },
  {
   "cell_type": "code",
   "execution_count": null,
   "metadata": {
    "collapsed": true
   },
   "outputs": [],
   "source": [
    "# Création d'une grille des paramètres\n",
    "param_grid = {\n",
    "    'max_features': [5, 10, 15],\n",
    "    'n_estimators': [50, 100, 150, 200]\n",
    "}\n",
    "\n",
    "# Instanciation du modèle de forêts aléatoires utilisant la recherche sur grille de paramètres\n",
    "rf = RandomForestClassifier()\n",
    "grid_search = GridSearchCV(estimator = rf, param_grid = param_grid, cv = 3)"
   ]
  },
  {
   "cell_type": "code",
   "execution_count": null,
   "metadata": {
    "collapsed": true
   },
   "outputs": [],
   "source": [
    "# Entraînement du modèle et affichage des meilleurs paramètres\n",
    "grid_search.fit(X_train, y_train)\n",
    "grid_search.best_params_"
   ]
  },
  {
   "cell_type": "markdown",
   "metadata": {},
   "source": [
    "## Question 2"
   ]
  },
  {
   "cell_type": "code",
   "execution_count": null,
   "metadata": {
    "collapsed": true
   },
   "outputs": [],
   "source": [
    "# On utilise les meilleurs paramètres du modèles entraîné avec grid search pour paramétrer de nouveau l'algorithme de forêts aléatoire.\n",
    "# On procède ainsi afin d'utiliser la méthode 'feature_importances'.\n",
    "forest = RandomForestClassifier(**grid_search.best_params_)\n",
    "forest.fit(X_train, y_train)"
   ]
  },
  {
   "cell_type": "code",
   "execution_count": null,
   "metadata": {
    "collapsed": true,
    "scrolled": true
   },
   "outputs": [],
   "source": [
    "# Affichage des variables par ordre d'importance dans le modèle\n",
    "dic = {}\n",
    "for i in range(len(X_train.columns)):\n",
    "    dic[X_train.columns[i]] = forest.feature_importances_[i]\n",
    "    \n",
    "sorted(dic.items(),  key=lambda x: x[1], reverse=True)"
   ]
  },
  {
   "cell_type": "markdown",
   "metadata": {
    "collapsed": true
   },
   "source": [
    "## Question 3"
   ]
  },
  {
   "cell_type": "code",
   "execution_count": null,
   "metadata": {
    "collapsed": true
   },
   "outputs": [],
   "source": [
    "# Matrice de confusion et calcul des metrics accuracy, precision.\n",
    "cm = confusion_matrix(y_test, forest.predict(X_test))\n",
    "tn = cm[0][0]\n",
    "fp = cm[0][1]\n",
    "fn = cm[1][0]\n",
    "tp = cm[1][1]\n",
    "print('acccuracy: {:.4f} %'.format(forest.score(X_test, y_test)*100))\n",
    "print('precision: {:.4f} %'.format(tp/(tp+fp)*100))"
   ]
  },
  {
   "cell_type": "markdown",
   "metadata": {
    "collapsed": true
   },
   "source": [
    "## Question 4"
   ]
  },
  {
   "cell_type": "code",
   "execution_count": null,
   "metadata": {
    "collapsed": true
   },
   "outputs": [],
   "source": [
    "# La metric du recall nous indique que les embauchés sont bien prédis à 33 % ce qui est faible. \n",
    "# Cela est du à un déséquilibre de proportion entre les embauchés et non embauchés\n",
    "print('recall: {:.4f} %'.format(tp/(tp+fn)*100))"
   ]
  }
 ],
 "metadata": {
  "kernelspec": {
   "display_name": "Python 3",
   "language": "python",
   "name": "python3"
  },
  "language_info": {
   "codemirror_mode": {
    "name": "ipython",
    "version": 3
   },
   "file_extension": ".py",
   "mimetype": "text/x-python",
   "name": "python",
   "nbconvert_exporter": "python",
   "pygments_lexer": "ipython3",
   "version": "3.6.3"
  }
 },
 "nbformat": 4,
 "nbformat_minor": 2
}
